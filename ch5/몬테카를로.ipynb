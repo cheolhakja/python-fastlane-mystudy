{
 "cells": [
  {
   "cell_type": "code",
   "execution_count": 1,
   "metadata": {},
   "outputs": [
    {
     "data": {
      "image/png": "[encoded data removed]",
      "text/plain": [
       "<Figure size 576x576 with 1 Axes>"
      ]
     },
     "metadata": {
      "needs_background": "light"
     },
     "output_type": "display_data"
    }
   ],
   "source": [
    "import matplotlib.pyplot as plt\n",
    "\n",
    "\n",
    "fig, ax = plt.subplots(figsize=(8, 8))\n",
    "ax.set_aspect(\"equal\")\n",
    "\n",
    "ax.set_xlabel(\"x\")\n",
    "ax.set_ylabel(\"y\")\n",
    "ax.set_title(\"Monte Carlo Pi\")\n",
    "\n",
    "ax.scatter([1,2], [1,2])\n",
    "\n",
    "\n",
    "ax.scatter\n",
    "plt.show()"
   ]
  },
  {
   "cell_type": "code",
   "execution_count": 4,
   "metadata": {},
   "outputs": [
    {
     "name": "stdout",
     "output_type": "stream",
     "text": [
      "(0.7319055752299986, 0.08143195685893234)\n",
      "(0.9459181838998317, 0.9955906336722501)\n",
      "(0.7001657045382291, 0.22670680504726126)\n",
      "(0.3353748159152595, 0.9415646512458755)\n",
      "(0.15975115666586337, 0.04145532329753443)\n",
      "(0.6346949180225037, 0.24984307037599185)\n",
      "(0.023835046771364388, 0.522836791480992)\n",
      "(0.7494153759929736, 0.6622452954861825)\n",
      "(0.8690510858549217, 0.6410683871907216)\n",
      "(0.4913284398418529, 0.5298899213589463)\n"
     ]
    }
   ],
   "source": [
    "import random\n",
    "\n",
    "x_points = []\n",
    "y_points = []\n",
    "\n",
    "\n",
    "for i in range(100):\n",
    "    x = random.uniform(0.0,1.0)\n",
    "    y = random.uniform(0.0,1.0)\n",
    "    x_points.append(x)\n",
    "    y_points.append(y)\n",
    "\n",
    "\n",
    "for i in range(10):\n",
    "    print((x_points[i], y_points[i]))\n"
   ]
  }
 ],
 "metadata": {
  "kernelspec": {
   "display_name": "base",
   "language": "python",
   "name": "python3"
  },
  "language_info": {
   "codemirror_mode": {
    "name": "ipython",
    "version": 3
   },
   "file_extension": ".py",
   "mimetype": "text/x-python",
   "name": "python",
   "nbconvert_exporter": "python",
   "pygments_lexer": "ipython3",
   "version": "3.9.12"
  },
  "orig_nbformat": 4
 },
 "nbformat": 4,
 "nbformat_minor": 2
}
