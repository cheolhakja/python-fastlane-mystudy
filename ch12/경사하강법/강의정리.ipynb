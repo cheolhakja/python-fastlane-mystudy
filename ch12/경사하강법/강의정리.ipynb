{
 "cells": [
  {
   "attachments": {},
   "cell_type": "markdown",
   "metadata": {},
   "source": [
    "함수의 값이 최소가 되는 방향으로, 경사를 따라서 하강함\n",
    "\n",
    "gradient(기울기)의 절댓값이 작아질수록 점이 이동하는 속도가 느려짐"
   ]
  },
  {
   "cell_type": "code",
   "execution_count": null,
   "metadata": {},
   "outputs": [],
   "source": [
    "import torch\n",
    "import numpy as np\n",
    "\n",
    "x = torch.tensor([1.0], requires_grad=True)\n",
    "xx = torch.tensor([1.0], requires_grad=True)\n",
    "learning_rate = 1e-3 #머신러닝에서 lr로 학습 속도를 조절함\n",
    "\n",
    "def my_func(x):\n",
    "    return x**2  # y = x*x\n",
    "\n",
    "y = my_func(x)\n",
    "y.backward()\n",
    "print(x.grad.item())\n",
    "y = my_func(x)\n",
    "y.backward()\n",
    "y = my_func(x)\n",
    "y.backward()\n",
    "\n",
    "'''def gradient_descent():\n",
    "    global x\n",
    "\n",
    "    y = my_func(x) #forward.. 기울기를 계산하려는 함수의 값을 구한다\n",
    "\n",
    "    x.grad = None  # gradient가 누적되는 것을 방지\n",
    "    y.backward()\n",
    "\n",
    "    with torch.no_grad():  # gradient 계산과는 무관하다\n",
    "        x -= learning_rate * x.grad'''"
   ]
  },
  {
   "cell_type": "code",
   "execution_count": null,
   "metadata": {},
   "outputs": [],
   "source": [
    "y = m"
   ]
  },
  {
   "cell_type": "code",
   "execution_count": null,
   "metadata": {},
   "outputs": [],
   "source": []
  }
 ],
 "metadata": {
  "kernelspec": {
   "display_name": "env_pytorch",
   "language": "python",
   "name": "python3"
  },
  "language_info": {
   "name": "python",
   "version": "3.8.13"
  },
  "orig_nbformat": 4
 },
 "nbformat": 4,
 "nbformat_minor": 2
}
