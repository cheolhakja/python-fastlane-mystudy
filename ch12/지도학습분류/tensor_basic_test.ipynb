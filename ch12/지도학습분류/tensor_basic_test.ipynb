{
 "cells": [
  {
   "cell_type": "code",
   "execution_count": 6,
   "metadata": {},
   "outputs": [
    {
     "name": "stdout",
     "output_type": "stream",
     "text": [
      "(2, 2, 3)\n"
     ]
    },
    {
     "data": {
      "text/plain": [
       "array([[1, 1, 1],\n",
       "       [1, 1, 1]], dtype=int64)"
      ]
     },
     "execution_count": 6,
     "metadata": {},
     "output_type": "execute_result"
    }
   ],
   "source": [
    "import numpy as np\n",
    "\n",
    "y_pred = np.array([[[0.1, 0.2, 0.3], [0.4, 0.5, 0.6]], [[0.7, 0.8, 0.9], [1.1, 1.2, 1.3]]]) # shape가 (2, 3)\n",
    "\n",
    "print(y_pred.shape)\n",
    "\n",
    "np.array(y_pred).argmax(axis=0) # array([1, 0], dtype=int64)"
   ]
  },
  {
   "attachments": {},
   "cell_type": "markdown",
   "metadata": {},
   "source": [
    "https://rekt77.tistory.com/102\n",
    "\n",
    "https://stackoverflow.com/questions/47435526/what-is-the-meaning-of-axis-1-in-keras-argmax"
   ]
  },
  {
   "cell_type": "code",
   "execution_count": 5,
   "metadata": {},
   "outputs": [
    {
     "name": "stdout",
     "output_type": "stream",
     "text": [
      "0\n",
      "1\n",
      "2\n",
      "3\n"
     ]
    }
   ],
   "source": [
    "# 스칼라 - 벡터 - 행렬 (매트릭스) - 텐서\n",
    "\n",
    "import numpy as np\n",
    "\n",
    "x = np.array(1)\n",
    "print(x.ndim)\n",
    "x2 = np.array([1,2,3,4])\n",
    "print(x2.ndim)\n",
    "x3 = np.array([[1,2,3,4],[1,2,3,4]])\n",
    "print(x3.ndim)\n",
    "x4 = np.array([[[1,2,3,4],[1,2,3,4]],[[1,2,3,4],[1,2,3,4]]])\n",
    "print(x4.ndim)"
   ]
  },
  {
   "cell_type": "code",
   "execution_count": 20,
   "metadata": {},
   "outputs": [
    {
     "name": "stdout",
     "output_type": "stream",
     "text": [
      "range(0, 10)\n",
      "<class 'range'>\n",
      "range(4, 7)\n",
      "<class 'range'>\n",
      "range(4, 10)\n",
      "<class 'range'>\n",
      "range(0, 7, 2)\n",
      "<class 'range'>\n",
      "[0, 2, 4, 6]\n",
      "[0, 10, 'a', 30, 'b', 50, 'c', 70, 80, 90]\n"
     ]
    }
   ],
   "source": [
    "a = [0, 10, 20, 30, 40, 50, 60, 70, 80, 90]\n",
    "a[0:4]     # 인덱스 0부터 3까지 잘라서 새 리스트를 만듦\n",
    "\n",
    "a = [0, 10, 20, 30, 40, 50, 60, 70, 80, 90]\n",
    "a[1:1]\n",
    "\n",
    "a[4:-1] \n",
    "\n",
    "#다음은 인덱스를 3씩 증가시키면서 요소를 가져옵니다. \n",
    "# 여기서 주의할 점은 인덱스의 증가폭이다\n",
    "a[2:8:3] \n",
    "\n",
    "#인덱스 생략하기\n",
    "a[:7] \n",
    "\n",
    "#  인덱스를 생략하면서 증가폭 사용하기 -> 이런게 어려운거지뭐\n",
    "a[:7:2]\n",
    "a[7::2] \n",
    "a[::2]\n",
    "\n",
    "#-1 을 통해 역순으로 출력하기\n",
    "a[::-1]\n",
    "a[5:1:-1]\n",
    "a[len(a):0:-1] \n",
    "\n",
    "#튜플 슬라이싱\n",
    "b = (0, 10, 20, 30, 40, 50, 60, 70, 80, 90)\n",
    "b[4:7] \n",
    "b[4:]  \n",
    "b[:7:2]\n",
    "\n",
    "#range자료형 == range객체\n",
    "#간단하죠? 이렇게 모든 시퀀스 자료형은 같은 방식으로 슬라이스를 사용해서 일부를 잘라낼 수 있습니다.\n",
    "r = range(10)\n",
    "print(r)\n",
    "print(type(r))\n",
    "tmp = r[4:7]  \n",
    "print(tmp)\n",
    "print(type(tmp))\n",
    "tmp = r[4:]\n",
    "print(tmp)\n",
    "print(type(tmp))\n",
    "tmp = r[:7:2]\n",
    "print(tmp)\n",
    "print(type(tmp))\n",
    "print(list(tmp))\n",
    "\n",
    "#슬라이싱으로 요소 할당 mutable객체만\n",
    "a = [0, 10, 20, 30, 40, 50, 60, 70, 80, 90]\n",
    "a[2:8:2] = ['a', 'b', 'c']    #***인덱스 증가폭을 지정했을 때!!!***는 슬라이스 범위의 요소 개수와 할당할 요소 개수가 정확히 일치해야 합니다.\n",
    "print(a)  "
   ]
  },
  {
   "attachments": {},
   "cell_type": "markdown",
   "metadata": {},
   "source": [
    "참고: string tuple range객체는 immutable"
   ]
  }
 ],
 "metadata": {
  "kernelspec": {
   "display_name": "env_pytorch",
   "language": "python",
   "name": "python3"
  },
  "language_info": {
   "codemirror_mode": {
    "name": "ipython",
    "version": 3
   },
   "file_extension": ".py",
   "mimetype": "text/x-python",
   "name": "python",
   "nbconvert_exporter": "python",
   "pygments_lexer": "ipython3",
   "version": "3.8.13"
  },
  "orig_nbformat": 4
 },
 "nbformat": 4,
 "nbformat_minor": 2
}
