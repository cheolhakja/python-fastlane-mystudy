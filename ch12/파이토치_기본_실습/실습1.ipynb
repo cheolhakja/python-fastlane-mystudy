{
 "cells": [
  {
   "cell_type": "code",
   "execution_count": 18,
   "metadata": {},
   "outputs": [
    {
     "name": "stdout",
     "output_type": "stream",
     "text": [
      "[-2.0, -1.5, -1.0, 0.0, 1.0, 1.5, 2.0]\n"
     ]
    }
   ],
   "source": [
    "import torch\n",
    "import numpy as np\n",
    "\n",
    "samples = [-1.0, -0.75, -0.5, 0.0, 0.5, 0.75, 1.0]\n",
    "\n",
    "result = []\n",
    "\n",
    "for num in samples:\n",
    "    tmp = torch.tensor(num, requires_grad = True)\n",
    "\n",
    "    y = tmp**2 #forward\n",
    "\n",
    "    y.backward() # 미분하는 과정을 backward() 미분해서 grad에 저장 (property)\n",
    "\n",
    "    result.append(tmp.grad.item())\n",
    "    \n",
    "print(result)\n"
   ]
  }
 ],
 "metadata": {
  "kernelspec": {
   "display_name": "env_pytorch",
   "language": "python",
   "name": "python3"
  },
  "language_info": {
   "codemirror_mode": {
    "name": "ipython",
    "version": 3
   },
   "file_extension": ".py",
   "mimetype": "text/x-python",
   "name": "python",
   "nbconvert_exporter": "python",
   "pygments_lexer": "ipython3",
   "version": "3.8.13"
  },
  "orig_nbformat": 4
 },
 "nbformat": 4,
 "nbformat_minor": 2
}
