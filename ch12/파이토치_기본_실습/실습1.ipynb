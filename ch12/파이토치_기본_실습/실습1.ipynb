{
 "cells": [
  {
   "cell_type": "code",
   "execution_count": 1,
   "metadata": {},
   "outputs": [],
   "source": [
    "import torch\n",
    "import numpy as np\n",
    "\n",
    "samples = [-1.0, -0.75, -0.5, 0.0, 0.5, 0.75, 1.0]\n",
    "\n",
    "tensor1 = torch.tensor(samples, requires_grad=True)\n",
    "\n",
    "for num in tensor1:\n",
    "    tmp = torch.tensor(num)\n",
    "    y = num**2\n",
    "\n",
    "\n",
    "    y.backward() # 미분하는 과정을 backward() 미분해서 grad에 저장 (property)\n",
    "\n",
    "print(x_data.grad)\n",
    "x_data.grad.item() \n",
    "\n"
   ]
  }
 ],
 "metadata": {
  "kernelspec": {
   "display_name": "env_pytorch",
   "language": "python",
   "name": "python3"
  },
  "language_info": {
   "codemirror_mode": {
    "name": "ipython",
    "version": 3
   },
   "file_extension": ".py",
   "mimetype": "text/x-python",
   "name": "python",
   "nbconvert_exporter": "python",
   "pygments_lexer": "ipython3",
   "version": "3.8.13"
  },
  "orig_nbformat": 4
 },
 "nbformat": 4,
 "nbformat_minor": 2
}
